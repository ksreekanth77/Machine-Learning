{
 "cells": [
  {
   "cell_type": "markdown",
   "metadata": {
    "colab_type": "text",
    "id": "view-in-github"
   },
   "source": [
    "<a href=\"https://colab.research.google.com/github/sree268/Machine-Learning/blob/main/gradient_descent.ipynb\" target=\"_parent\"><img src=\"https://colab.research.google.com/assets/colab-badge.svg\" alt=\"Open In Colab\"/></a>"
   ]
  },
  {
   "cell_type": "markdown",
   "metadata": {
    "id": "eHR6h3TLDt-7"
   },
   "source": [
    "# Understanding gradient descent\n",
    "\n",
    "Starting with a simple problem, we are going to understand working of gradient descent in this notebook.  \n",
    "  \n",
    "Take one dimensional problem, we're planning to build a house between two tower's which supplies power to the house. We decided to have power supply from both the towers so that we can have a back up even one gets broke down. The power cabel costs twice the length of it.    \n",
    "\n",
    "So the goal is to find a point to build a house, such that cost of the cable will be minimum."
   ]
  },
  {
   "cell_type": "code",
   "execution_count": 1,
   "metadata": {
    "id": "Af-TnAqRD0nO"
   },
   "outputs": [
    {
     "ename": "ModuleNotFoundError",
     "evalue": "No module named 'jax'",
     "output_type": "error",
     "traceback": [
      "\u001b[0;31m---------------------------------------------------------------------------\u001b[0m",
      "\u001b[0;31mModuleNotFoundError\u001b[0m                       Traceback (most recent call last)",
      "Cell \u001b[0;32mIn [1], line 4\u001b[0m\n\u001b[1;32m      2\u001b[0m \u001b[38;5;28;01mfrom\u001b[39;00m \u001b[38;5;21;01msympy\u001b[39;00m \u001b[38;5;28;01mimport\u001b[39;00m \u001b[38;5;241m*\u001b[39m              \u001b[38;5;66;03m#A library that provides symbolic differentiation\u001b[39;00m\n\u001b[1;32m      3\u001b[0m \u001b[38;5;28;01mfrom\u001b[39;00m \u001b[38;5;21;01msympy\u001b[39;00m\u001b[38;5;21;01m.\u001b[39;00m\u001b[38;5;21;01mutilities\u001b[39;00m\u001b[38;5;21;01m.\u001b[39;00m\u001b[38;5;21;01mlambdify\u001b[39;00m \u001b[38;5;28;01mimport\u001b[39;00m lambdify\n\u001b[0;32m----> 4\u001b[0m \u001b[38;5;28;01mfrom\u001b[39;00m \u001b[38;5;21;01mjax\u001b[39;00m \u001b[38;5;28;01mimport\u001b[39;00m grad             \u001b[38;5;66;03m#A function to perform automatic differentiation\u001b[39;00m\n\u001b[1;32m      5\u001b[0m \u001b[38;5;28;01mimport\u001b[39;00m \u001b[38;5;21;01mjax\u001b[39;00m\u001b[38;5;21;01m.\u001b[39;00m\u001b[38;5;21;01mnumpy\u001b[39;00m \u001b[38;5;28;01mas\u001b[39;00m \u001b[38;5;21;01mjnp\u001b[39;00m          \u001b[38;5;66;03m#A wrapped version of NumPy to use JAX premitives\u001b[39;00m\n\u001b[1;32m      6\u001b[0m \u001b[38;5;28;01mimport\u001b[39;00m \u001b[38;5;21;01mnumpy\u001b[39;00m \u001b[38;5;28;01mas\u001b[39;00m \u001b[38;5;21;01mnp\u001b[39;00m               \u001b[38;5;66;03m#A library to deal with math\u001b[39;00m\n",
      "\u001b[0;31mModuleNotFoundError\u001b[0m: No module named 'jax'"
     ]
    }
   ],
   "source": [
    "# Import required modules\n",
    "from sympy import *              #A library that provides symbolic differentiation\n",
    "from sympy.utilities.lambdify import lambdify\n",
    "from jax import grad             #A function to perform automatic differentiation\n",
    "import jax.numpy as jnp          #A wrapped version of NumPy to use JAX premitives\n",
    "import numpy as np               #A library to deal with math\n",
    "import matplotlib.pyplot as plt  #A library for programming plot generation\n",
    "\n",
    "%matplotlib inline"
   ]
  },
  {
   "cell_type": "markdown",
   "metadata": {
    "id": "N4QLMmk5FPrT"
   },
   "source": [
    "Say house and towers align in a straight line, X-axis"
   ]
  },
  {
   "cell_type": "code",
   "execution_count": null,
   "metadata": {
    "id": "sp4NHH7qD_Jp"
   },
   "outputs": [],
   "source": [
    "a = 1         #Point of tower a in the straight line\n",
    "b = 6         #Point of tower b in the straight line\n",
    "x = None      #Point of the house"
   ]
  },
  {
   "cell_type": "code",
   "execution_count": null,
   "metadata": {
    "id": "i9-QTzKII-Sk"
   },
   "outputs": [],
   "source": [
    "#Function for plotting positions\n",
    "def plot_points(x_points, y_points=None):\n",
    "  if y_points==None:\n",
    "    y_points = np.zeros(len(x_points))\n",
    "\n",
    "  plt.plot(x_points[:-1], y_points[:-1], \"bo\",label=\"Towers\")\n",
    "  plt.plot(x_points[-1], y_points[-1], \"go\", label=\"House\")\n",
    "  plt.legend()"
   ]
  },
  {
   "cell_type": "code",
   "execution_count": null,
   "metadata": {
    "colab": {
     "base_uri": "https://localhost:8080/",
     "height": 430
    },
    "id": "xPKKxqgwNrQp",
    "outputId": "331716f4-d263-4073-e75b-7a4d79d0b1eb"
   },
   "outputs": [],
   "source": [
    "plot_points(np.array([a,b,5]))"
   ]
  },
  {
   "cell_type": "markdown",
   "metadata": {
    "id": "wGII5QEZjPW7"
   },
   "source": [
    "## Cost of cable\n",
    "Distance can be found by subtracting tower location from house location, and sum of the squares of both distances gives the cost.  \n",
    "Let's have a look to symbolic representation of cost function."
   ]
  },
  {
   "cell_type": "code",
   "execution_count": null,
   "metadata": {
    "colab": {
     "base_uri": "https://localhost:8080/",
     "height": 39
    },
    "id": "iYPCy8r6khal",
    "outputId": "ce1d7422-93e0-4fc6-8f32-4b0f04ba0c45"
   },
   "outputs": [],
   "source": [
    "#defining symbols\n",
    "x = symbols('x')\n",
    "cost = (x - a)**2 + (x - b)**2\n",
    "cost"
   ]
  },
  {
   "cell_type": "code",
   "execution_count": null,
   "metadata": {
    "id": "macYShmBFNly"
   },
   "outputs": [],
   "source": [
    "#creating a function to calculate cost's for different x values\n",
    "f_cost = lambdify(x, cost, \"numpy\")"
   ]
  },
  {
   "cell_type": "code",
   "execution_count": null,
   "metadata": {
    "colab": {
     "base_uri": "https://localhost:8080/"
    },
    "id": "j4XZPFu3EvES",
    "outputId": "e9c1c8f7-ae69-4019-dc81-047688039904"
   },
   "outputs": [],
   "source": [
    "print(f\"Cost of cable, if house at point {1} : {f_cost(1)}\")\n",
    "print(f\"Cost of cable, if house at point {5} : {f_cost(5)}\")\n",
    "print(f\"Cost of cable, if house at point {9} : {f_cost(9)}\")"
   ]
  },
  {
   "cell_type": "code",
   "execution_count": null,
   "metadata": {
    "id": "gnSLHXP2H1Mw"
   },
   "outputs": [],
   "source": [
    "#Function used for plotting\n",
    "def plot_f1_and_f2(f1, f2=None, x_min=-1, x_max=8, label1=\"f(x)\", label2=\"f'(x)\"):\n",
    "    x = np.linspace(x_min, x_max,100)\n",
    "\n",
    "    # Setting the axes at the centre.\n",
    "    fig = plt.figure()\n",
    "    ax = fig.add_subplot(1, 1, 1)\n",
    "    ax.spines['left'].set_position('zero')\n",
    "    ax.spines['bottom'].set_position('zero')\n",
    "    ax.spines['right'].set_color('none')\n",
    "    ax.spines['top'].set_color('none')\n",
    "    ax.xaxis.set_ticks_position('bottom')\n",
    "    ax.yaxis.set_ticks_position('left')\n",
    "\n",
    "    plt.plot(x, f1(x), 'r', label=label1)\n",
    "    if not f2 is None:\n",
    "        # If f2 is an array, it is passed as it is to be plotted as unlinked points.\n",
    "        # If f2 is a function, f2(x) needs to be passed to plot it.\n",
    "        if isinstance(f2, np.ndarray):\n",
    "            plt.plot(x, f2, 'bo', markersize=3, label=label2,)\n",
    "        else:\n",
    "            plt.plot(x, f2(x), 'b', label=label2)\n",
    "\n",
    "\n",
    "    plt.xlabel(\"Point of house\")\n",
    "    plt.ylabel(\"Cost of cabel\")\n",
    "    plt.legend()\n",
    "\n",
    "    plt.show()"
   ]
  },
  {
   "cell_type": "code",
   "execution_count": null,
   "metadata": {
    "colab": {
     "base_uri": "https://localhost:8080/",
     "height": 522
    },
    "id": "kF6T4cKZYDOm",
    "outputId": "efd48812-6579-4601-f09c-414f90ea86f9"
   },
   "outputs": [],
   "source": [
    "#let's visually look at the cost of cable for different house location's\n",
    "plot_f1_and_f2(f_cost)"
   ]
  },
  {
   "cell_type": "markdown",
   "metadata": {
    "id": "Zq_bwnamYPnn"
   },
   "source": [
    "Cost of cable will be minimum at point some where in between 2 and 4. But how to find the exact point?  \n",
    "Here come's the differentiation.\n",
    "## Differentiation\n",
    "We know that differentiation is all about rate of change at a particular instance. And it is equal to the slope of the graph at that point. If there is a function $f(x)$, then it's derivative is $f'(x)$ which gives slope for $f(x)$ at  point $x$. Slope can be positive, negative or even zero. When function increases respective with $x$ then slope is positive, if function decreases respective with increase of $x$ then slope is negative, and there is a point where line of slope will be parallel to x-axis which means zero slope. The slope will be zero at points where function reaches it's maximum or minimum.  \n",
    "All we want is to find the point where function is minimum. Hence we want to find value of $x$ where $f'(x)=0$  \n",
    "Let's calculate the derivative of our cost function $f(x)=(x-a)^2+(x-b)^2$"
   ]
  },
  {
   "cell_type": "code",
   "execution_count": null,
   "metadata": {
    "colab": {
     "base_uri": "https://localhost:8080/",
     "height": 38
    },
    "id": "bbLuQFg7g9ki",
    "outputId": "19e76fad-ff8d-4be3-a9b6-b562afd8276f"
   },
   "outputs": [],
   "source": [
    "#Derivative of f_cost\n",
    "cost_diff = diff((x-a)**2+(x-b)**2, x)\n",
    "cost_diff"
   ]
  },
  {
   "cell_type": "code",
   "execution_count": null,
   "metadata": {
    "colab": {
     "base_uri": "https://localhost:8080/"
    },
    "id": "eADl4NUKo2BS",
    "outputId": "5ae80efc-89dd-45ae-f041-5d69552cb9f6"
   },
   "outputs": [],
   "source": [
    "#solving for f'(x)=0\n",
    "x_f = solve(cost_diff, x)\n",
    "x_f"
   ]
  },
  {
   "cell_type": "markdown",
   "metadata": {
    "id": "HoC8UjzbpFoC"
   },
   "source": [
    "Hence we can build a house at point 3.5"
   ]
  },
  {
   "cell_type": "code",
   "execution_count": null,
   "metadata": {
    "id": "uQ4XNDwtoFvQ"
   },
   "outputs": [],
   "source": [
    "dfdx_cost = lambdify(x, cost_diff, \"numpy\")"
   ]
  },
  {
   "cell_type": "code",
   "execution_count": null,
   "metadata": {
    "colab": {
     "base_uri": "https://localhost:8080/",
     "height": 407
    },
    "id": "QGk5V8zehq_2",
    "outputId": "a48d79ce-d780-40f4-e22c-966c5820d816"
   },
   "outputs": [],
   "source": [
    "plot_f1_and_f2(f_cost, dfdx_cost)"
   ]
  },
  {
   "cell_type": "code",
   "execution_count": null,
   "metadata": {
    "colab": {
     "base_uri": "https://localhost:8080/",
     "height": 37
    },
    "id": "7msxTyEQnUTS",
    "outputId": "40597d05-3123-4b1f-8635-ad37df4d70c1"
   },
   "outputs": [],
   "source": [
    "#calculating minimum cost for cable\n",
    "min_cost = cost.evalf(subs={x:x_f[0]})\n",
    "min_cost"
   ]
  },
  {
   "cell_type": "markdown",
   "metadata": {
    "id": "SEtSczYxqC-n"
   },
   "source": [
    "By using above steps we can calculate minimum cost even if we add more towers"
   ]
  },
  {
   "cell_type": "code",
   "execution_count": null,
   "metadata": {},
   "outputs": [],
   "source": [
    "c = 10"
   ]
  }
 ],
 "metadata": {
  "colab": {
   "authorship_tag": "ABX9TyMnY8FZCL69i7ZZL/SSEOz3",
   "include_colab_link": true,
   "provenance": []
  },
  "kernelspec": {
   "display_name": "Python 3 (ipykernel)",
   "language": "python",
   "name": "python3"
  },
  "language_info": {
   "codemirror_mode": {
    "name": "ipython",
    "version": 3
   },
   "file_extension": ".py",
   "mimetype": "text/x-python",
   "name": "python",
   "nbconvert_exporter": "python",
   "pygments_lexer": "ipython3",
   "version": "3.11.2"
  }
 },
 "nbformat": 4,
 "nbformat_minor": 1
}
